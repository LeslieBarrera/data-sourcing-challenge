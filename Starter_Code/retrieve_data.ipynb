{
 "cells": [
  {
   "cell_type": "markdown",
   "metadata": {},
   "source": [
    "### Import Required Libraries and Set Up Environment Variables"
   ]
  },
  {
   "cell_type": "code",
   "execution_count": 232,
   "metadata": {},
   "outputs": [],
   "source": [
    "# Dependencies\n",
    "import requests\n",
    "import time\n",
    "from dotenv import load_dotenv\n",
    "import os\n",
    "import pandas as pd\n",
    "import json\n",
    "import os\n",
    "from datetime import datetime\n",
    "## Load the NASA_API_KEY from the env file\n",
    "load_dotenv()\n",
    "NASA_API_KEY = os.getenv('NASA_API_KEY')"
   ]
  },
  {
   "cell_type": "markdown",
   "metadata": {},
   "source": [
    "### CME Data"
   ]
  },
  {
   "cell_type": "code",
   "execution_count": 235,
   "metadata": {},
   "outputs": [
    {
     "name": "stdout",
     "output_type": "stream",
     "text": [
      "Query URL for CME data: https://api.nasa.gov/DONKI/CME?startDate=2013-05-01&endDate=2024-05-01&api_key=aozPh26Wko4RceUlDcfQvOfLxduydiFVWGvUGAOJ\n"
     ]
    }
   ],
   "source": [
    "# Set the base URL to NASA's DONKI API:\n",
    "base_url = \"https://api.nasa.gov/DONKI/\"\n",
    "\n",
    "# Set the specifier for CMEs:\n",
    "CME = \"CME\"\n",
    "\n",
    "# Search for CMEs published between a begin and end date\n",
    "startDate = \"2013-05-01\"\n",
    "endDate   = \"2024-05-01\"\n",
    "\n",
    "# Build URL for CME\n",
    "query_url_CME = f\"{base_url}{CME}?startDate={startDate}&endDate={endDate}&api_key={NASA_API_KEY}\"\n",
    "\n",
    "# Print the query URL to confirm it is correct\n",
    "print(\"Query URL for CME data:\", query_url_CME)"
   ]
  },
  {
   "cell_type": "code",
   "execution_count": 237,
   "metadata": {},
   "outputs": [
    {
     "name": "stdout",
     "output_type": "stream",
     "text": [
      "Status Code: 200\n"
     ]
    }
   ],
   "source": [
    "# Make a \"GET\" request for the CME URL and store it in a variable named cme_response\n",
    "cme_response = requests.get(query_url_CME)\n",
    "\n",
    "# Print the status code to verify if the request was successful\n",
    "print(\"Status Code:\", cme_response.status_code)"
   ]
  },
  {
   "cell_type": "code",
   "execution_count": 239,
   "metadata": {},
   "outputs": [
    {
     "name": "stdout",
     "output_type": "stream",
     "text": [
      "Preview of cme_json:\n",
      "[\n",
      "    {\n",
      "        \"activityID\": \"2013-05-01T03:12:00-CME-001\",\n",
      "        \"catalog\": \"M2M_CATALOG\",\n",
      "        \"startTime\": \"2013-05-01T03:12Z\",\n",
      "        \"instruments\": [\n",
      "            {\n",
      "                \"displayName\": \"SOHO: LASCO/C2\"\n",
      "            },\n",
      "            {\n",
      "                \"displayName\": \"SOHO: LASCO/C3\"\n",
      "            },\n",
      "            {\n",
      "                \"displayName\": \"STEREO A: SECCHI/COR2\"\n",
      "            },\n",
      "            {\n",
      "                \"displayName\": \"STEREO B: SECCHI/COR2\"\n",
      "            }\n",
      "        ],\n",
      "        \"sourceLocation\": \"\",\n",
      "        \"activeRegionNum\": null,\n",
      "        \"note\": \"\",\n",
      "        \"submissionTime\": \"2013-08-07T16:54Z\",\n",
      "        \"versionId\": 1,\n",
      "        \"link\": \"https://webtools.ccmc.gsfc.nasa.gov/DONKI/view/CME/2349/-1\",\n",
      "        \"cmeAnalyses\": [\n",
      "            {\n",
      "                \"isMostAccurate\": true,\n",
      "                \"time21_5\": \"2013-05-01T07:07Z\",\n",
      "                \"latitude\": 12.0,\n",
      "                \"longitude\": -120.0,\n",
      "                \"halfAngle\": 36.0,\n",
      "                \"speed\": 860.0,\n",
      "                \"type\": \"C\",\n",
      "                \"featureCode\": \"null\",\n",
      "                \"imageType\": null,\n",
      "                \"measurementTechnique\": \"null\",\n",
      "                \"note\": \"\",\n",
      "                \"levelOfData\": 0,\n",
      "                \"tilt\": null,\n",
      "                \"minorHalfWidth\": null,\n",
      "                \"speedMeasuredAtHeight\": null,\n",
      "                \"submissionTime\": \"2013-08-07T16:54Z\",\n",
      "                \"link\": \"https://webtools.ccmc.gsfc.nasa.gov/DONKI/view/CMEAnalysis/2350/-1\",\n",
      "                \"enlilList\": [\n",
      "                    {\n",
      "                        \"modelCompletionTime\": \"2013-05-01T08:32Z\",\n",
      "                        \"au\": 2.0,\n",
      "                        \"estimatedShockArrivalTime\": null,\n",
      "                        \"estimatedDuration\": null,\n",
      "                        \"rmin_re\": null,\n",
      "                        \"kp_18\": null,\n",
      "                        \"kp_90\": null,\n",
      "                        \"kp_135\": null,\n",
      "                        \"kp_180\": null,\n",
      "                        \"isEarthGB\": false,\n",
      "                        \"link\": \"https://webtools.ccmc.gsfc.nasa.gov/DONKI/view/WSA-ENLIL/2348/-1\",\n",
      "                        \"impactList\": [\n",
      "                            {\n",
      "                                \"isGlancingBlow\": false,\n",
      "                                \"location\": \"STEREO B\",\n",
      "                                \"arrivalTime\": \"2013-05-04T06:16Z\"\n",
      "                            }\n",
      "                        ],\n",
      "                        \"cmeIDs\": [\n",
      "                            \"2013-05-01T03:12:00-CME-001\"\n",
      "                        ]\n",
      "                    }\n",
      "                ]\n",
      "            }\n",
      "        ],\n",
      "        \"linkedEvents\": [\n",
      "            {\n",
      "                \"activityID\": \"2013-05-04T04:52:00-IPS-001\"\n",
      "            }\n",
      "        ]\n",
      "    }\n",
      "]\n"
     ]
    }
   ],
   "source": [
    "# Convert the response variable to JSON and store it as a variable named cme_json\n",
    "cme_json = cme_response.json()\n",
    "\n",
    "# Print a preview of the JSON data to verify\n",
    "print(\"Preview of cme_json:\")\n",
    "print(json.dumps(cme_json[:1], indent=4))  # Display the first CME event in a formatted way"
   ]
  },
  {
   "cell_type": "code",
   "execution_count": 241,
   "metadata": {},
   "outputs": [
    {
     "name": "stdout",
     "output_type": "stream",
     "text": [
      "Formatted preview of the first CME event in JSON format:\n",
      "{\n",
      "    \"activityID\": \"2013-05-01T03:12:00-CME-001\",\n",
      "    \"catalog\": \"M2M_CATALOG\",\n",
      "    \"startTime\": \"2013-05-01T03:12Z\",\n",
      "    \"instruments\": [\n",
      "        {\n",
      "            \"displayName\": \"SOHO: LASCO/C2\"\n",
      "        },\n",
      "        {\n",
      "            \"displayName\": \"SOHO: LASCO/C3\"\n",
      "        },\n",
      "        {\n",
      "            \"displayName\": \"STEREO A: SECCHI/COR2\"\n",
      "        },\n",
      "        {\n",
      "            \"displayName\": \"STEREO B: SECCHI/COR2\"\n",
      "        }\n",
      "    ],\n",
      "    \"sourceLocation\": \"\",\n",
      "    \"activeRegionNum\": null,\n",
      "    \"note\": \"\",\n",
      "    \"submissionTime\": \"2013-08-07T16:54Z\",\n",
      "    \"versionId\": 1,\n",
      "    \"link\": \"https://webtools.ccmc.gsfc.nasa.gov/DONKI/view/CME/2349/-1\",\n",
      "    \"cmeAnalyses\": [\n",
      "        {\n",
      "            \"isMostAccurate\": true,\n",
      "            \"time21_5\": \"2013-05-01T07:07Z\",\n",
      "            \"latitude\": 12.0,\n",
      "            \"longitude\": -120.0,\n",
      "            \"halfAngle\": 36.0,\n",
      "            \"speed\": 860.0,\n",
      "            \"type\": \"C\",\n",
      "            \"featureCode\": \"null\",\n",
      "            \"imageType\": null,\n",
      "            \"measurementTechnique\": \"null\",\n",
      "            \"note\": \"\",\n",
      "            \"levelOfData\": 0,\n",
      "            \"tilt\": null,\n",
      "            \"minorHalfWidth\": null,\n",
      "            \"speedMeasuredAtHeight\": null,\n",
      "            \"submissionTime\": \"2013-08-07T16:54Z\",\n",
      "            \"link\": \"https://webtools.ccmc.gsfc.nasa.gov/DONKI/view/CMEAnalysis/2350/-1\",\n",
      "            \"enlilList\": [\n",
      "                {\n",
      "                    \"modelCompletionTime\": \"2013-05-01T08:32Z\",\n",
      "                    \"au\": 2.0,\n",
      "                    \"estimatedShockArrivalTime\": null,\n",
      "                    \"estimatedDuration\": null,\n",
      "                    \"rmin_re\": null,\n",
      "                    \"kp_18\": null,\n",
      "                    \"kp_90\": null,\n",
      "                    \"kp_135\": null,\n",
      "                    \"kp_180\": null,\n",
      "                    \"isEarthGB\": false,\n",
      "                    \"link\": \"https://webtools.ccmc.gsfc.nasa.gov/DONKI/view/WSA-ENLIL/2348/-1\",\n",
      "                    \"impactList\": [\n",
      "                        {\n",
      "                            \"isGlancingBlow\": false,\n",
      "                            \"location\": \"STEREO B\",\n",
      "                            \"arrivalTime\": \"2013-05-04T06:16Z\"\n",
      "                        }\n",
      "                    ],\n",
      "                    \"cmeIDs\": [\n",
      "                        \"2013-05-01T03:12:00-CME-001\"\n",
      "                    ]\n",
      "                }\n",
      "            ]\n",
      "        }\n",
      "    ],\n",
      "    \"linkedEvents\": [\n",
      "        {\n",
      "            \"activityID\": \"2013-05-04T04:52:00-IPS-001\"\n",
      "        }\n",
      "    ]\n",
      "}\n"
     ]
    }
   ],
   "source": [
    "# Preview the first result in JSON format\n",
    "# Use json.dumps with argument indent=4 to format data\n",
    "print(\"Formatted preview of the first CME event in JSON format:\")\n",
    "print(json.dumps(cme_json[0], indent=4))"
   ]
  },
  {
   "cell_type": "code",
   "execution_count": 243,
   "metadata": {},
   "outputs": [
    {
     "name": "stdout",
     "output_type": "stream",
     "text": [
      "                    activityID          startTime  \\\n",
      "0  2013-05-01T03:12:00-CME-001  2013-05-01T03:12Z   \n",
      "1  2013-05-02T05:24:00-CME-001  2013-05-02T05:24Z   \n",
      "2  2013-05-02T14:36:00-CME-001  2013-05-02T14:36Z   \n",
      "3  2013-05-03T18:00:00-CME-001  2013-05-03T18:00Z   \n",
      "4  2013-05-03T22:36:00-CME-001  2013-05-03T22:36Z   \n",
      "\n",
      "                                      linkedEvents  \n",
      "0  [{'activityID': '2013-05-04T04:52:00-IPS-001'}]  \n",
      "1                                             None  \n",
      "2                                             None  \n",
      "3                                             None  \n",
      "4  [{'activityID': '2013-05-07T04:37:00-IPS-001'}]  \n"
     ]
    }
   ],
   "source": [
    "# Convert cme_json to a Pandas DataFrame\n",
    "cme_df = pd.DataFrame(cme_json)\n",
    "\n",
    "# Keep only the columns: activityID, startTime, linkedEvents\n",
    "cme_df = cme_df[['activityID', 'startTime', 'linkedEvents']]\n",
    "\n",
    "# Preview the first few rows of the DataFrame to ensure it's correct\n",
    "print(cme_df.head())"
   ]
  },
  {
   "cell_type": "code",
   "execution_count": 293,
   "metadata": {},
   "outputs": [
    {
     "name": "stdout",
     "output_type": "stream",
     "text": [
      "                         gstID          startTime  \\\n",
      "0  2013-06-01T01:00:00-GST-001  2013-06-01T01:00Z   \n",
      "1  2013-06-07T03:00:00-GST-001  2013-06-07T03:00Z   \n",
      "2  2013-06-29T03:00:00-GST-001  2013-06-29T03:00Z   \n",
      "3  2013-10-02T03:00:00-GST-001  2013-10-02T03:00Z   \n",
      "4  2013-12-08T00:00:00-GST-001  2013-12-08T00:00Z   \n",
      "\n",
      "                                        linkedEvents  \n",
      "0    [{'activityID': '2013-05-31T15:45:00-HSS-001'}]  \n",
      "1    [{'activityID': '2013-06-02T20:24:00-CME-001'}]  \n",
      "2                                               None  \n",
      "3  [{'activityID': '2013-09-29T22:40:00-CME-001'}...  \n",
      "4  [{'activityID': '2013-12-04T23:12:00-CME-001'}...  \n"
     ]
    }
   ],
   "source": [
    "# Convert gst_json to a Pandas DataFrame\n",
    "gst_df = pd.DataFrame(gst_json)\n",
    "\n",
    "# Keep only the columns: gstID, startTime, linkedEvents\n",
    "gst_df = gst_df[['gstID', 'startTime', 'linkedEvents']]\n",
    "\n",
    "# Preview the first few rows of the DataFrame to ensure it's correct\n",
    "print(gst_df.head())"
   ]
  },
  {
   "cell_type": "code",
   "execution_count": 245,
   "metadata": {},
   "outputs": [
    {
     "name": "stdout",
     "output_type": "stream",
     "text": [
      "Preview after removing rows with missing 'linkedEvents':\n",
      "                     activityID          startTime  \\\n",
      "0   2013-05-01T03:12:00-CME-001  2013-05-01T03:12Z   \n",
      "4   2013-05-03T22:36:00-CME-001  2013-05-03T22:36Z   \n",
      "7   2013-05-09T19:29:00-CME-001  2013-05-09T19:29Z   \n",
      "10  2013-05-13T02:54:00-CME-001  2013-05-13T02:54Z   \n",
      "13  2013-05-13T16:18:00-CME-001  2013-05-13T16:18Z   \n",
      "\n",
      "                                         linkedEvents  \n",
      "0     [{'activityID': '2013-05-04T04:52:00-IPS-001'}]  \n",
      "4     [{'activityID': '2013-05-07T04:37:00-IPS-001'}]  \n",
      "7     [{'activityID': '2013-05-12T23:30:00-IPS-001'}]  \n",
      "10  [{'activityID': '2013-05-13T01:53:00-FLR-001'}...  \n",
      "13  [{'activityID': '2013-05-13T15:40:00-FLR-001'}...  \n"
     ]
    }
   ],
   "source": [
    "# Remove rows with missing 'linkedEvents' since we won't be able to assign these to GSTs\n",
    "cme_df_cleaned = cme_df.dropna(subset=['linkedEvents'])\n",
    "\n",
    "# Preview the cleaned DataFrame to ensure rows with missing 'linkedEvents' are removed\n",
    "print(\"Preview after removing rows with missing 'linkedEvents':\")\n",
    "print(cme_df_cleaned.head())"
   ]
  },
  {
   "cell_type": "code",
   "execution_count": 247,
   "metadata": {},
   "outputs": [
    {
     "name": "stdout",
     "output_type": "stream",
     "text": [
      "Expanded DataFrame preview:\n",
      "                    activityID          startTime                linkedEventID\n",
      "0  2013-05-01T03:12:00-CME-001  2013-05-01T03:12Z  2013-05-04T04:52:00-IPS-001\n",
      "1  2013-05-03T22:36:00-CME-001  2013-05-03T22:36Z  2013-05-07T04:37:00-IPS-001\n",
      "2  2013-05-09T19:29:00-CME-001  2013-05-09T19:29Z  2013-05-12T23:30:00-IPS-001\n",
      "3  2013-05-13T02:54:00-CME-001  2013-05-13T02:54Z  2013-05-13T01:53:00-FLR-001\n",
      "4  2013-05-13T02:54:00-CME-001  2013-05-13T02:54Z  2013-05-13T04:12:00-SEP-001\n"
     ]
    }
   ],
   "source": [
    "# Initialize an empty list to store the expanded rows\n",
    "expanded_rows = []\n",
    "\n",
    "# Iterate over each index in the DataFrame\n",
    "for i in cme_df_cleaned.index:\n",
    "    # Get the values from 'activityID' and 'startTime'\n",
    "    activityID = cme_df_cleaned.loc[i, 'activityID']\n",
    "    startTime = cme_df_cleaned.loc[i, 'startTime']\n",
    "    \n",
    "    # Get the list of dictionaries from 'linkedEvents'\n",
    "    linkedEvents = cme_df_cleaned.loc[i, 'linkedEvents']\n",
    "    \n",
    "    # Check if linkedEvents is not None and is a list\n",
    "    if isinstance(linkedEvents, list):\n",
    "        # Iterate over each dictionary in the linkedEvents list\n",
    "        for event in linkedEvents:\n",
    "            # Append a new dictionary to the expanded_rows list for each event\n",
    "            expanded_rows.append({\n",
    "                'activityID': activityID,\n",
    "                'startTime': startTime,\n",
    "                'linkedEventID': event.get('activityID', None)  # Safely get activityID\n",
    "            })\n",
    "\n",
    "# Create a new DataFrame from the expanded rows\n",
    "expanded_df = pd.DataFrame(expanded_rows)\n",
    "\n",
    "# Preview the expanded DataFrame to ensure it processed correctly\n",
    "print(\"Expanded DataFrame preview:\")\n",
    "print(expanded_df.head())"
   ]
  },
  {
   "cell_type": "code",
   "execution_count": 249,
   "metadata": {},
   "outputs": [
    {
     "name": "stdout",
     "output_type": "stream",
     "text": [
      "2013-05-04T04:52:00-IPS-001\n"
     ]
    }
   ],
   "source": [
    "# Create a function called extract_activityID_from_dict\n",
    "def extract_activityID_from_dict(event_dict):\n",
    "    try:\n",
    "        # Attempt to get the 'activityID' from the dictionary\n",
    "        return event_dict.get('activityID', None)\n",
    "    except Exception as e:  # Catch any exception\n",
    "        # Log the error or print it for debugging\n",
    "        print(f\"Error extracting activityID: {e}\")\n",
    "        return None  # Return None in case of an error\n",
    "\n",
    "# Test the function using one row from 'linkedEvents' as an example\n",
    "# Assuming 'expanded_df' already exists and has a valid 'linkedEventID' column\n",
    "example_event = {'activityID': '2013-05-04T04:52:00-IPS-001'}  # Example dictionary from linkedEvents\n",
    "\n",
    "# Apply the function to the example\n",
    "print(extract_activityID_from_dict(example_event))"
   ]
  },
  {
   "cell_type": "code",
   "execution_count": 255,
   "metadata": {},
   "outputs": [
    {
     "name": "stdout",
     "output_type": "stream",
     "text": [
      "Updated DataFrame with 'GST_ActivityID':\n",
      "                     activityID          startTime  \\\n",
      "0   2013-05-01T03:12:00-CME-001  2013-05-01T03:12Z   \n",
      "4   2013-05-03T22:36:00-CME-001  2013-05-03T22:36Z   \n",
      "7   2013-05-09T19:29:00-CME-001  2013-05-09T19:29Z   \n",
      "10  2013-05-13T02:54:00-CME-001  2013-05-13T02:54Z   \n",
      "13  2013-05-13T16:18:00-CME-001  2013-05-13T16:18Z   \n",
      "\n",
      "                                         linkedEvents  \\\n",
      "0     [{'activityID': '2013-05-04T04:52:00-IPS-001'}]   \n",
      "4     [{'activityID': '2013-05-07T04:37:00-IPS-001'}]   \n",
      "7     [{'activityID': '2013-05-12T23:30:00-IPS-001'}]   \n",
      "10  [{'activityID': '2013-05-13T01:53:00-FLR-001'}...   \n",
      "13  [{'activityID': '2013-05-13T15:40:00-FLR-001'}...   \n",
      "\n",
      "                 GST_ActivityID  \n",
      "0   2013-05-04T04:52:00-IPS-001  \n",
      "4   2013-05-07T04:37:00-IPS-001  \n",
      "7   2013-05-12T23:30:00-IPS-001  \n",
      "10  2013-05-13T01:53:00-FLR-001  \n",
      "13  2013-05-13T15:40:00-FLR-001  \n"
     ]
    }
   ],
   "source": [
    "# Apply this function to each row in the 'linkedEvents' column\n",
    "# and create a new column called 'GST_ActivityID' using loc indexer\n",
    "cme_df_cleaned.loc[:, 'GST_ActivityID'] = cme_df_cleaned['linkedEvents'].apply(\n",
    "    lambda x: extract_activityID_from_dict(x[0]) if isinstance(x, list) and len(x) > 0 else None\n",
    ")\n",
    "\n",
    "# Preview the updated DataFrame to ensure the new column has been added correctly\n",
    "print(\"Updated DataFrame with 'GST_ActivityID':\")\n",
    "print(cme_df_cleaned.head())"
   ]
  },
  {
   "cell_type": "code",
   "execution_count": 257,
   "metadata": {},
   "outputs": [
    {
     "name": "stdout",
     "output_type": "stream",
     "text": [
      "Preview after removing rows with missing 'GST_ActivityID':\n",
      "                     activityID          startTime  \\\n",
      "0   2013-05-01T03:12:00-CME-001  2013-05-01T03:12Z   \n",
      "4   2013-05-03T22:36:00-CME-001  2013-05-03T22:36Z   \n",
      "7   2013-05-09T19:29:00-CME-001  2013-05-09T19:29Z   \n",
      "10  2013-05-13T02:54:00-CME-001  2013-05-13T02:54Z   \n",
      "13  2013-05-13T16:18:00-CME-001  2013-05-13T16:18Z   \n",
      "\n",
      "                                         linkedEvents  \\\n",
      "0     [{'activityID': '2013-05-04T04:52:00-IPS-001'}]   \n",
      "4     [{'activityID': '2013-05-07T04:37:00-IPS-001'}]   \n",
      "7     [{'activityID': '2013-05-12T23:30:00-IPS-001'}]   \n",
      "10  [{'activityID': '2013-05-13T01:53:00-FLR-001'}...   \n",
      "13  [{'activityID': '2013-05-13T15:40:00-FLR-001'}...   \n",
      "\n",
      "                 GST_ActivityID  \n",
      "0   2013-05-04T04:52:00-IPS-001  \n",
      "4   2013-05-07T04:37:00-IPS-001  \n",
      "7   2013-05-12T23:30:00-IPS-001  \n",
      "10  2013-05-13T01:53:00-FLR-001  \n",
      "13  2013-05-13T15:40:00-FLR-001  \n"
     ]
    }
   ],
   "source": [
    "# Remove rows with missing 'GST_ActivityID' since we can't assign these to GSTs\n",
    "cme_df_cleaned = cme_df_cleaned.dropna(subset=['GST_ActivityID'])\n",
    "\n",
    "# Preview the cleaned DataFrame to ensure rows with missing 'GST_ActivityID' are removed\n",
    "print(\"Preview after removing rows with missing 'GST_ActivityID':\")\n",
    "print(cme_df_cleaned.head())"
   ]
  },
  {
   "cell_type": "code",
   "execution_count": 259,
   "metadata": {},
   "outputs": [
    {
     "name": "stdout",
     "output_type": "stream",
     "text": [
      "activityID        object\n",
      "startTime         object\n",
      "linkedEvents      object\n",
      "GST_ActivityID    object\n",
      "dtype: object\n"
     ]
    }
   ],
   "source": [
    "# Print out the datatype of each column in the DataFrame\n",
    "print(cme_df_cleaned.dtypes)"
   ]
  },
  {
   "cell_type": "code",
   "execution_count": 261,
   "metadata": {},
   "outputs": [
    {
     "name": "stdout",
     "output_type": "stream",
     "text": [
      "cmeID                          object\n",
      "startTime_CME     datetime64[ns, UTC]\n",
      "GST_ActivityID                 object\n",
      "dtype: object\n",
      "                          cmeID             startTime_CME  \\\n",
      "0   2013-05-01T03:12:00-CME-001 2013-05-01 03:12:00+00:00   \n",
      "4   2013-05-03T22:36:00-CME-001 2013-05-03 22:36:00+00:00   \n",
      "7   2013-05-09T19:29:00-CME-001 2013-05-09 19:29:00+00:00   \n",
      "10  2013-05-13T02:54:00-CME-001 2013-05-13 02:54:00+00:00   \n",
      "13  2013-05-13T16:18:00-CME-001 2013-05-13 16:18:00+00:00   \n",
      "\n",
      "                 GST_ActivityID  \n",
      "0   2013-05-04T04:52:00-IPS-001  \n",
      "4   2013-05-07T04:37:00-IPS-001  \n",
      "7   2013-05-12T23:30:00-IPS-001  \n",
      "10  2013-05-13T01:53:00-FLR-001  \n",
      "13  2013-05-13T15:40:00-FLR-001  \n"
     ]
    }
   ],
   "source": [
    "# Convert the 'GST_ActivityID' column to string format\n",
    "cme_df_cleaned['GST_ActivityID'] = cme_df_cleaned['GST_ActivityID'].astype(str)\n",
    "\n",
    "# Convert 'startTime' to datetime format (if not already done)\n",
    "cme_df_cleaned['startTime'] = pd.to_datetime(cme_df_cleaned['startTime'])\n",
    "\n",
    "# Rename 'startTime' to 'startTime_CME' and 'activityID' to 'cmeID'\n",
    "cme_df_cleaned = cme_df_cleaned.rename(columns={'startTime': 'startTime_CME', 'activityID': 'cmeID'})\n",
    "\n",
    "# Drop the 'linkedEvents' column\n",
    "cme_df_cleaned = cme_df_cleaned.drop(columns=['linkedEvents'])\n",
    "\n",
    "# Verify that all steps were executed correctly\n",
    "print(cme_df_cleaned.dtypes)  # Check the datatypes\n",
    "print(cme_df_cleaned.head())   # Preview the updated DataFrame"
   ]
  },
  {
   "cell_type": "code",
   "execution_count": 263,
   "metadata": {},
   "outputs": [
    {
     "name": "stdout",
     "output_type": "stream",
     "text": [
      "Filtered CME DataFrame with GSTs:\n",
      "                            cmeID             startTime_CME  \\\n",
      "26    2013-06-02T20:24:00-CME-001 2013-06-02 20:24:00+00:00   \n",
      "1358  2015-09-04T14:12:00-CME-001 2015-09-04 14:12:00+00:00   \n",
      "1359  2015-09-04T19:24:00-CME-001 2015-09-04 19:24:00+00:00   \n",
      "1361  2015-09-06T23:30:00-CME-001 2015-09-06 23:30:00+00:00   \n",
      "1362  2015-09-07T10:36:00-CME-001 2015-09-07 10:36:00+00:00   \n",
      "\n",
      "                   GST_ActivityID  \n",
      "26    2013-06-07T03:00:00-GST-001  \n",
      "1358  2015-09-09T03:00:00-GST-001  \n",
      "1359  2015-09-09T03:00:00-GST-001  \n",
      "1361  2015-09-11T06:00:00-GST-001  \n",
      "1362  2015-09-11T06:00:00-GST-001  \n"
     ]
    }
   ],
   "source": [
    "# Keep only rows where 'GST_ActivityID' contains 'GST'\n",
    "cme_gst_df = cme_df_cleaned[cme_df_cleaned['GST_ActivityID'].str.contains('GST', na=False)]\n",
    "\n",
    "# Preview the filtered DataFrame\n",
    "print(\"Filtered CME DataFrame with GSTs:\")\n",
    "print(cme_gst_df.head())"
   ]
  },
  {
   "cell_type": "markdown",
   "metadata": {},
   "source": [
    "### GST Data"
   ]
  },
  {
   "cell_type": "code",
   "execution_count": 265,
   "metadata": {},
   "outputs": [],
   "source": [
    "# Set the base URL to NASA's DONKI API:\n",
    "base_url = \"https://api.nasa.gov/DONKI/\"\n",
    "\n",
    "# Set the specifier for Geomagnetic Storms (GST):\n",
    "GST = \"GST\"\n",
    "\n",
    "# Search for GSTs between a begin and end date\n",
    "startDate = \"2013-05-01\"\n",
    "endDate   = \"2024-05-01\"\n",
    "\n",
    "# Build URL for GST\n",
    "query_url_GST = f\"{base_url}{GST}?startDate={startDate}&endDate={endDate}&api_key={NASA_API_KEY}\""
   ]
  },
  {
   "cell_type": "code",
   "execution_count": 267,
   "metadata": {},
   "outputs": [],
   "source": [
    "# Make a \"GET\" request for the GST URL and store it in a variable named gst_response\n",
    "gst_response = requests.get(query_url_GST)"
   ]
  },
  {
   "cell_type": "code",
   "execution_count": 269,
   "metadata": {},
   "outputs": [
    {
     "name": "stdout",
     "output_type": "stream",
     "text": [
      "[\n",
      "    {\n",
      "        \"gstID\": \"2013-06-01T01:00:00-GST-001\",\n",
      "        \"startTime\": \"2013-06-01T01:00Z\",\n",
      "        \"allKpIndex\": [\n",
      "            {\n",
      "                \"observedTime\": \"2013-06-01T01:00Z\",\n",
      "                \"kpIndex\": 6.0,\n",
      "                \"source\": \"NOAA\"\n",
      "            }\n",
      "        ],\n",
      "        \"link\": \"https://webtools.ccmc.gsfc.nasa.gov/DONKI/view/GST/326/-1\",\n",
      "        \"linkedEvents\": [\n",
      "            {\n",
      "                \"activityID\": \"2013-05-31T15:45:00-HSS-001\"\n",
      "            }\n",
      "        ],\n",
      "        \"submissionTime\": \"2013-07-15T19:26Z\",\n",
      "        \"versionId\": 1\n",
      "    }\n",
      "]\n"
     ]
    }
   ],
   "source": [
    "# Convert the response variable to json and store it as a variable named gst_json\n",
    "gst_json = gst_response.json()\n",
    "\n",
    "# Preview the first result in JSON format\n",
    "# Use json.dumps with argument indent=4 to format data\n",
    "import json\n",
    "formatted_preview = json.dumps(gst_json[:1], indent=4)\n",
    "print(formatted_preview)"
   ]
  },
  {
   "cell_type": "code",
   "execution_count": 271,
   "metadata": {},
   "outputs": [
    {
     "name": "stdout",
     "output_type": "stream",
     "text": [
      "GST DataFrame preview:\n",
      "                         gstID          startTime  \\\n",
      "0  2013-06-01T01:00:00-GST-001  2013-06-01T01:00Z   \n",
      "1  2013-06-07T03:00:00-GST-001  2013-06-07T03:00Z   \n",
      "2  2013-06-29T03:00:00-GST-001  2013-06-29T03:00Z   \n",
      "3  2013-10-02T03:00:00-GST-001  2013-10-02T03:00Z   \n",
      "4  2013-12-08T00:00:00-GST-001  2013-12-08T00:00Z   \n",
      "\n",
      "                                        linkedEvents  \n",
      "0    [{'activityID': '2013-05-31T15:45:00-HSS-001'}]  \n",
      "1    [{'activityID': '2013-06-02T20:24:00-CME-001'}]  \n",
      "2                                               None  \n",
      "3  [{'activityID': '2013-09-29T22:40:00-CME-001'}...  \n",
      "4  [{'activityID': '2013-12-04T23:12:00-CME-001'}...  \n"
     ]
    }
   ],
   "source": [
    "# Convert gst_json to a Pandas DataFrame  \n",
    "gst_df = pd.DataFrame(gst_json)\n",
    "\n",
    "# Keep only the columns: gstID, startTime, linkedEvents\n",
    "gst_df = gst_df[['gstID', 'startTime', 'linkedEvents']]\n",
    "\n",
    "# Preview the DataFrame\n",
    "print(\"GST DataFrame preview:\")\n",
    "print(gst_df.head())"
   ]
  },
  {
   "cell_type": "code",
   "execution_count": 273,
   "metadata": {},
   "outputs": [
    {
     "name": "stdout",
     "output_type": "stream",
     "text": [
      "Cleaned GST DataFrame preview:\n",
      "                         gstID          startTime  \\\n",
      "0  2013-06-01T01:00:00-GST-001  2013-06-01T01:00Z   \n",
      "1  2013-06-07T03:00:00-GST-001  2013-06-07T03:00Z   \n",
      "3  2013-10-02T03:00:00-GST-001  2013-10-02T03:00Z   \n",
      "4  2013-12-08T00:00:00-GST-001  2013-12-08T00:00Z   \n",
      "5  2014-02-19T03:00:00-GST-001  2014-02-19T03:00Z   \n",
      "\n",
      "                                        linkedEvents  \n",
      "0    [{'activityID': '2013-05-31T15:45:00-HSS-001'}]  \n",
      "1    [{'activityID': '2013-06-02T20:24:00-CME-001'}]  \n",
      "3  [{'activityID': '2013-09-29T22:40:00-CME-001'}...  \n",
      "4  [{'activityID': '2013-12-04T23:12:00-CME-001'}...  \n",
      "5  [{'activityID': '2014-02-16T14:15:00-CME-001'}...  \n"
     ]
    }
   ],
   "source": [
    "# Notice that the linkedEvents column allows us to identify the corresponding CME\n",
    "# Remove rows with missing 'linkedEvents' since we can't assign these to CMEs\n",
    "gst_df_cleaned = gst_df.dropna(subset=['linkedEvents'])\n",
    "\n",
    "# Preview the cleaned DataFrame to ensure rows with missing 'linkedEvents' are removed\n",
    "print(\"Cleaned GST DataFrame preview:\")\n",
    "print(gst_df_cleaned.head())"
   ]
  },
  {
   "cell_type": "code",
   "execution_count": 297,
   "metadata": {},
   "outputs": [
    {
     "name": "stdout",
     "output_type": "stream",
     "text": [
      "Cleaned and exploded GST DataFrame:\n",
      "                         gstID          startTime  \\\n",
      "0  2013-06-01T01:00:00-GST-001  2013-06-01T01:00Z   \n",
      "1  2013-06-07T03:00:00-GST-001  2013-06-07T03:00Z   \n",
      "2  2013-10-02T03:00:00-GST-001  2013-10-02T03:00Z   \n",
      "3  2013-10-02T03:00:00-GST-001  2013-10-02T03:00Z   \n",
      "4  2013-10-02T03:00:00-GST-001  2013-10-02T03:00Z   \n",
      "\n",
      "                                    linkedEvents               CME_ActivityID  \n",
      "0  {'activityID': '2013-05-31T15:45:00-HSS-001'}  2013-05-31T15:45:00-HSS-001  \n",
      "1  {'activityID': '2013-06-02T20:24:00-CME-001'}  2013-06-02T20:24:00-CME-001  \n",
      "2  {'activityID': '2013-09-29T22:40:00-CME-001'}  2013-09-29T22:40:00-CME-001  \n",
      "3  {'activityID': '2013-10-02T01:54:00-IPS-001'}  2013-10-02T01:54:00-IPS-001  \n",
      "4  {'activityID': '2013-10-02T02:47:00-MPC-001'}  2013-10-02T02:47:00-MPC-001  \n"
     ]
    }
   ],
   "source": [
    "# Notice that the linkedEvents sometimes contains multiple events per row\n",
    "# Remove rows with missing 'linkedEvents' since we won't be able to assign these to CMEs\n",
    "gst_df_cleaned = gst_df.dropna(subset=['linkedEvents'])\n",
    "\n",
    "# Use the explode method to expand the 'linkedEvents' column\n",
    "gst_df_exploded = gst_df_cleaned.explode('linkedEvents').reset_index(drop=True)\n",
    "\n",
    "# Drop any remaining rows with missing 'linkedEvents' after the explode operation\n",
    "gst_df_exploded = gst_df_exploded.dropna(subset=['linkedEvents'])\n",
    "\n",
    "# Define the extract_activityID_from_dict function\n",
    "def extract_activityID_from_dict(input_dict):\n",
    "    try:\n",
    "        return input_dict.get('activityID', None)\n",
    "    except (ValueError, TypeError) as e:\n",
    "        print(f\"Error extracting activityID: {e}\")\n",
    "        return None\n",
    "\n",
    "# Apply the function to each row in the 'linkedEvents' column\n",
    "gst_df_exploded['CME_ActivityID'] = gst_df_exploded['linkedEvents'].apply(\n",
    "    lambda x: extract_activityID_from_dict(x) if isinstance(x, dict) else None\n",
    ")\n",
    "\n",
    "# Remove rows with missing CME_ActivityID, since we can't assign them to CMEs\n",
    "gst_df_exploded = gst_df_exploded.dropna(subset=['CME_ActivityID'])\n",
    "\n",
    "# Preview the cleaned GST DataFrame\n",
    "print(\"Cleaned and exploded GST DataFrame:\")\n",
    "print(gst_df_exploded.head())"
   ]
  },
  {
   "cell_type": "code",
   "execution_count": 279,
   "metadata": {},
   "outputs": [
    {
     "name": "stdout",
     "output_type": "stream",
     "text": [
      "Updated exploded GST DataFrame after adding 'CME_ActivityID':\n",
      "                         gstID          startTime  \\\n",
      "0  2013-06-01T01:00:00-GST-001  2013-06-01T01:00Z   \n",
      "1  2013-06-07T03:00:00-GST-001  2013-06-07T03:00Z   \n",
      "2  2013-10-02T03:00:00-GST-001  2013-10-02T03:00Z   \n",
      "3  2013-10-02T03:00:00-GST-001  2013-10-02T03:00Z   \n",
      "4  2013-10-02T03:00:00-GST-001  2013-10-02T03:00Z   \n",
      "\n",
      "                                    linkedEvents               CME_ActivityID  \n",
      "0  {'activityID': '2013-05-31T15:45:00-HSS-001'}  2013-05-31T15:45:00-HSS-001  \n",
      "1  {'activityID': '2013-06-02T20:24:00-CME-001'}  2013-06-02T20:24:00-CME-001  \n",
      "2  {'activityID': '2013-09-29T22:40:00-CME-001'}  2013-09-29T22:40:00-CME-001  \n",
      "3  {'activityID': '2013-10-02T01:54:00-IPS-001'}  2013-10-02T01:54:00-IPS-001  \n",
      "4  {'activityID': '2013-10-02T02:47:00-MPC-001'}  2013-10-02T02:47:00-MPC-001  \n"
     ]
    }
   ],
   "source": [
    "# Apply the extract_activityID_from_dict function to each row in the 'linkedEvents' column\n",
    "# and create a new column called 'CME_ActivityID' using loc indexer\n",
    "expanded_gst_df_exploded['CME_ActivityID'] = expanded_gst_df_exploded['linkedEvents'].apply(\n",
    "    lambda x: extract_activityID_from_dict(x) if pd.notna(x) else None\n",
    ")\n",
    "\n",
    "# Remove rows with missing CME_ActivityID, since we can't assign them to CMEs:\n",
    "expanded_gst_df_exploded = expanded_gst_df_exploded.dropna(subset=['CME_ActivityID'])\n",
    "\n",
    "# Preview the updated DataFrame to ensure the new column has been added and missing values removed\n",
    "print(\"Updated exploded GST DataFrame after adding 'CME_ActivityID':\")\n",
    "print(expanded_gst_df_exploded.head())"
   ]
  },
  {
   "cell_type": "code",
   "execution_count": 285,
   "metadata": {},
   "outputs": [
    {
     "name": "stdout",
     "output_type": "stream",
     "text": [
      "Data types after conversion:\n",
      "gstID                          object\n",
      "startTime_GST     datetime64[ns, UTC]\n",
      "CME_ActivityID                 object\n",
      "dtype: object\n",
      "Updated exploded GST DataFrame:\n",
      "                         gstID             startTime_GST  \\\n",
      "0  2013-06-01T01:00:00-GST-001 2013-06-01 01:00:00+00:00   \n",
      "1  2013-06-07T03:00:00-GST-001 2013-06-07 03:00:00+00:00   \n",
      "2  2013-10-02T03:00:00-GST-001 2013-10-02 03:00:00+00:00   \n",
      "3  2013-10-02T03:00:00-GST-001 2013-10-02 03:00:00+00:00   \n",
      "4  2013-10-02T03:00:00-GST-001 2013-10-02 03:00:00+00:00   \n",
      "\n",
      "                CME_ActivityID  \n",
      "0  2013-05-31T15:45:00-HSS-001  \n",
      "1  2013-06-02T20:24:00-CME-001  \n",
      "2  2013-09-29T22:40:00-CME-001  \n",
      "3  2013-10-02T01:54:00-IPS-001  \n",
      "4  2013-10-02T02:47:00-MPC-001  \n"
     ]
    }
   ],
   "source": [
    "# Convert the 'CME_ActivityID' column to string format \n",
    "expanded_gst_df_exploded['CME_ActivityID'] = expanded_gst_df_exploded['CME_ActivityID'].astype(str)\n",
    "\n",
    "# Convert the 'gstID' column to string format \n",
    "expanded_gst_df_exploded['gstID'] = expanded_gst_df_exploded['gstID'].astype(str)\n",
    "\n",
    "# Convert startTime to datetime format  \n",
    "expanded_gst_df_exploded['startTime'] = pd.to_datetime(expanded_gst_df_exploded['startTime'])\n",
    "\n",
    "# Rename startTime to startTime_GST \n",
    "expanded_gst_df_exploded.rename(columns={'startTime': 'startTime_GST'}, inplace=True)\n",
    "\n",
    "# Drop linkedEvents\n",
    "expanded_gst_df_exploded.drop(columns=['linkedEvents'], inplace=True)\n",
    "\n",
    "# Verify that all steps were executed correctly\n",
    "print(\"Data types after conversion:\")\n",
    "print(expanded_gst_df_exploded.dtypes)\n",
    "\n",
    "# Preview the updated DataFrame\n",
    "print(\"Updated exploded GST DataFrame:\")\n",
    "print(expanded_gst_df_exploded.head())"
   ]
  },
  {
   "cell_type": "code",
   "execution_count": 301,
   "metadata": {},
   "outputs": [
    {
     "name": "stdout",
     "output_type": "stream",
     "text": [
      "Filtered GST DataFrame with CMEs:\n",
      "                           gstID             startTime_GST  \\\n",
      "1    2013-06-07T03:00:00-GST-001 2013-06-07 03:00:00+00:00   \n",
      "2    2013-10-02T03:00:00-GST-001 2013-10-02 03:00:00+00:00   \n",
      "5    2013-12-08T00:00:00-GST-001 2013-12-08 00:00:00+00:00   \n",
      "7    2014-02-19T03:00:00-GST-001 2014-02-19 03:00:00+00:00   \n",
      "9    2014-02-20T03:00:00-GST-001 2014-02-20 03:00:00+00:00   \n",
      "..                           ...                       ...   \n",
      "192  2023-12-18T06:00:00-GST-001 2023-12-18 06:00:00+00:00   \n",
      "195  2024-03-03T18:00:00-GST-001 2024-03-03 18:00:00+00:00   \n",
      "199  2024-03-24T12:00:00-GST-001 2024-03-24 12:00:00+00:00   \n",
      "200  2024-03-24T12:00:00-GST-001 2024-03-24 12:00:00+00:00   \n",
      "203  2024-04-19T18:00:00-GST-001 2024-04-19 18:00:00+00:00   \n",
      "\n",
      "                  CME_ActivityID  \n",
      "1    2013-06-02T20:24:00-CME-001  \n",
      "2    2013-09-29T22:40:00-CME-001  \n",
      "5    2013-12-04T23:12:00-CME-001  \n",
      "7    2014-02-16T14:15:00-CME-001  \n",
      "9    2014-02-18T01:25:00-CME-001  \n",
      "..                           ...  \n",
      "192  2023-12-14T17:38:00-CME-001  \n",
      "195  2024-02-28T17:48:00-CME-001  \n",
      "199  2024-03-23T01:25:00-CME-001  \n",
      "200  2024-03-23T01:48:00-CME-001  \n",
      "203  2024-04-15T06:48:00-CME-001  \n",
      "\n",
      "[61 rows x 3 columns]\n"
     ]
    }
   ],
   "source": [
    "# We are only interested in GSTs related to CMEs so keep only rows where the CME_ActivityID column contains 'CME'\n",
    "# Use the method 'contains()' from the str library.\n",
    "gst_df_filtered = expanded_gst_df_exploded[expanded_gst_df_exploded['CME_ActivityID'].str.contains('CME', na=False)]\n",
    "\n",
    "# Preview the filtered DataFrame\n",
    "print(\"Filtered GST DataFrame with CMEs:\")\n",
    "print(gst_df_filtered)"
   ]
  },
  {
   "cell_type": "markdown",
   "metadata": {},
   "source": [
    "### Merge both datatsets"
   ]
  },
  {
   "cell_type": "code",
   "execution_count": 303,
   "metadata": {},
   "outputs": [
    {
     "name": "stdout",
     "output_type": "stream",
     "text": [
      "Merged DataFrame preview:\n",
      "                         gstID             startTime_GST  \\\n",
      "0  2013-06-07T03:00:00-GST-001 2013-06-07 03:00:00+00:00   \n",
      "1  2013-10-02T03:00:00-GST-001 2013-10-02 03:00:00+00:00   \n",
      "2  2013-12-08T00:00:00-GST-001 2013-12-08 00:00:00+00:00   \n",
      "3  2014-02-19T03:00:00-GST-001 2014-02-19 03:00:00+00:00   \n",
      "4  2014-02-20T03:00:00-GST-001 2014-02-20 03:00:00+00:00   \n",
      "\n",
      "                CME_ActivityID                        cmeID  \\\n",
      "0  2013-06-02T20:24:00-CME-001  2013-06-02T20:24:00-CME-001   \n",
      "1  2013-09-29T22:40:00-CME-001  2013-09-29T22:40:00-CME-001   \n",
      "2  2013-12-04T23:12:00-CME-001  2013-12-04T23:12:00-CME-001   \n",
      "3  2014-02-16T14:15:00-CME-001  2014-02-16T14:15:00-CME-001   \n",
      "4  2014-02-18T01:25:00-CME-001  2014-02-18T01:25:00-CME-001   \n",
      "\n",
      "              startTime_CME               GST_ActivityID  \n",
      "0 2013-06-02 20:24:00+00:00  2013-06-07T03:00:00-GST-001  \n",
      "1 2013-09-29 22:40:00+00:00  2013-09-30T05:05:00-SEP-001  \n",
      "2 2013-12-04 23:12:00+00:00  2013-12-08T00:00:00-IPS-001  \n",
      "3 2014-02-16 14:15:00+00:00  2014-02-18T05:00:00-IPS-001  \n",
      "4 2014-02-18 01:25:00+00:00  2014-02-20T02:50:00-IPS-001  \n",
      "Number of rows in Merged DataFrame: 61\n"
     ]
    }
   ],
   "source": [
    "# Now merge both datasets using 'gstID' and 'CME_ActivityID' for gst \n",
    "# and 'GST_ActivityID' and 'cmeID' for cme. Use the 'left_on' and 'right_on' specifiers.\n",
    "merged_df = pd.merge(\n",
    "    gst_df_filtered,                   # GST DataFrame filtered for CMEs\n",
    "    cme_df_cleaned,                   # CME DataFrame cleaned earlier\n",
    "    left_on='CME_ActivityID',         # Column from gst_df_filtered\n",
    "    right_on='cmeID',                 # Column from cme_df_cleaned\n",
    "    how='inner'                       # Use 'inner' to keep only matching rows\n",
    ")\n",
    "\n",
    "# Preview the merged DataFrame\n",
    "print(\"Merged DataFrame preview:\")\n",
    "print(merged_df.head())\n",
    "print(f\"Number of rows in Merged DataFrame: {len(merged_df)}\")"
   ]
  },
  {
   "cell_type": "code",
   "execution_count": 305,
   "metadata": {},
   "outputs": [
    {
     "name": "stdout",
     "output_type": "stream",
     "text": [
      "Number of rows in the original CME DataFrame: 1023\n",
      "Number of rows in the original GST DataFrame: 61\n",
      "Number of rows in the merged DataFrame: 61\n",
      "The merged DataFrame does not have the expected number of rows.\n"
     ]
    }
   ],
   "source": [
    "# Verify that the new DataFrame has the same number of rows as cme and gst\n",
    "# Get the number of rows in the original CME and GST DataFrames\n",
    "num_rows_cme = cme_df_cleaned.shape[0]\n",
    "num_rows_gst = gst_df_filtered.shape[0]\n",
    "\n",
    "# Get the number of rows in the merged DataFrame\n",
    "num_rows_merged = merged_df.shape[0]\n",
    "\n",
    "# Print the results\n",
    "print(f\"Number of rows in the original CME DataFrame: {num_rows_cme}\")\n",
    "print(f\"Number of rows in the original GST DataFrame: {num_rows_gst}\")\n",
    "print(f\"Number of rows in the merged DataFrame: {num_rows_merged}\")\n",
    "\n",
    "# Verify if the merged DataFrame has the same number of rows as CME and GST DataFrames\n",
    "if num_rows_merged == (num_rows_cme + num_rows_gst):\n",
    "    print(\"The merged DataFrame has the expected number of rows.\")\n",
    "else:\n",
    "    print(\"The merged DataFrame does not have the expected number of rows.\")"
   ]
  },
  {
   "cell_type": "markdown",
   "metadata": {},
   "source": [
    "### Computing the time it takes for a CME to cause a GST"
   ]
  },
  {
   "cell_type": "code",
   "execution_count": 313,
   "metadata": {},
   "outputs": [
    {
     "name": "stdout",
     "output_type": "stream",
     "text": [
      "Updated merged DataFrame with 'timeDiff':\n",
      "                         gstID                        cmeID        timeDiff\n",
      "0  2013-06-07T03:00:00-GST-001  2013-06-02T20:24:00-CME-001 4 days 06:36:00\n",
      "1  2013-10-02T03:00:00-GST-001  2013-09-29T22:40:00-CME-001 2 days 04:20:00\n",
      "2  2013-12-08T00:00:00-GST-001  2013-12-04T23:12:00-CME-001 3 days 00:48:00\n",
      "3  2014-02-19T03:00:00-GST-001  2014-02-16T14:15:00-CME-001 2 days 12:45:00\n",
      "4  2014-02-20T03:00:00-GST-001  2014-02-18T01:25:00-CME-001 2 days 01:35:00\n"
     ]
    }
   ],
   "source": [
    "# Compute the time diff between startTime_GST and startTime_CME\n",
    "merged_df['timeDiff'] = merged_df['startTime_GST'] - merged_df['startTime_CME']\n",
    "\n",
    "# Preview the updated DataFrame with the new timeDiff column\n",
    "print(\"Updated merged DataFrame with 'timeDiff':\")\n",
    "print(merged_df[['gstID', 'cmeID', 'timeDiff']].head())"
   ]
  },
  {
   "cell_type": "code",
   "execution_count": 315,
   "metadata": {},
   "outputs": [
    {
     "name": "stdout",
     "output_type": "stream",
     "text": [
      "Mean time for a CME to cause a GST (in seconds): 257366.55737704918\n",
      "Median time for a CME to cause a GST (in seconds): 244260.0\n",
      "\n",
      "Statistical summary of time differences:\n",
      "count        61.000000\n",
      "mean     257366.557377\n",
      "std       85989.336914\n",
      "min      117360.000000\n",
      "25%      187200.000000\n",
      "50%      244260.000000\n",
      "75%      308100.000000\n",
      "max      529200.000000\n",
      "Name: timeDiff, dtype: float64\n"
     ]
    }
   ],
   "source": [
    "# Compute the mean and median time difference\n",
    "time_diff_in_seconds = merged_df['timeDiff'].dt.total_seconds()\n",
    "\n",
    "# Adding mean and median to the DataFrame description\n",
    "mean_time = time_diff_in_seconds.mean()\n",
    "median_time = time_diff_in_seconds.median()\n",
    "\n",
    "# Print the results\n",
    "print(\"Mean time for a CME to cause a GST (in seconds):\", mean_time)\n",
    "print(\"Median time for a CME to cause a GST (in seconds):\", median_time)\n",
    "\n",
    "# Optionally, you can use describe() to get a full statistical summary\n",
    "summary_stats = time_diff_in_seconds.describe()\n",
    "print(\"\\nStatistical summary of time differences:\")\n",
    "print(summary_stats)"
   ]
  },
  {
   "cell_type": "markdown",
   "metadata": {},
   "source": [
    "### Exporting data in csv format"
   ]
  },
  {
   "cell_type": "code",
   "execution_count": 319,
   "metadata": {},
   "outputs": [],
   "source": [
    "# Export merged DataFrame to CSV\n",
    "merged_df.to_csv('cme_gst_data.csv', index=False)"
   ]
  },
  {
   "cell_type": "code",
   "execution_count": null,
   "metadata": {},
   "outputs": [],
   "source": []
  }
 ],
 "metadata": {
  "kernelspec": {
   "display_name": "Python 3 (ipykernel)",
   "language": "python",
   "name": "python3"
  },
  "language_info": {
   "codemirror_mode": {
    "name": "ipython",
    "version": 3
   },
   "file_extension": ".py",
   "mimetype": "text/x-python",
   "name": "python",
   "nbconvert_exporter": "python",
   "pygments_lexer": "ipython3",
   "version": "3.12.4"
  },
  "varInspector": {
   "cols": {
    "lenName": 16,
    "lenType": 16,
    "lenVar": 40
   },
   "kernels_config": {
    "python": {
     "delete_cmd_postfix": "",
     "delete_cmd_prefix": "del ",
     "library": "var_list.py",
     "varRefreshCmd": "print(var_dic_list())"
    },
    "r": {
     "delete_cmd_postfix": ") ",
     "delete_cmd_prefix": "rm(",
     "library": "var_list.r",
     "varRefreshCmd": "cat(var_dic_list()) "
    }
   },
   "types_to_exclude": [
    "module",
    "function",
    "builtin_function_or_method",
    "instance",
    "_Feature"
   ],
   "window_display": false
  }
 },
 "nbformat": 4,
 "nbformat_minor": 4
}
